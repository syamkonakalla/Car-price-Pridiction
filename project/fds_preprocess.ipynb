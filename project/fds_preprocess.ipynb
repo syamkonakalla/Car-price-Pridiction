{
 "cells": [
  {
   "cell_type": "code",
   "execution_count": 1,
   "id": "04192ba6",
   "metadata": {},
   "outputs": [],
   "source": [
    "import pandas as pd\n",
    "import numpy as np\n",
    "import random\n",
    "import mathplotlib.python as plt\n",
    "import s"
   ]
  },
  {
   "cell_type": "code",
   "execution_count": 5,
   "id": "8b800454",
   "metadata": {},
   "outputs": [],
   "source": [
    "df=pd.read_excel('C:\\\\Users\\\\syamk\\\\Desktop\\\\5th sem\\\\Data science\\\\project\\\\fds_proj.xlsx')"
   ]
  },
  {
   "cell_type": "code",
   "execution_count": 6,
   "id": "5049afbd",
   "metadata": {},
   "outputs": [
    {
     "data": {
      "text/html": [
       "<div>\n",
       "<style scoped>\n",
       "    .dataframe tbody tr th:only-of-type {\n",
       "        vertical-align: middle;\n",
       "    }\n",
       "\n",
       "    .dataframe tbody tr th {\n",
       "        vertical-align: top;\n",
       "    }\n",
       "\n",
       "    .dataframe thead th {\n",
       "        text-align: right;\n",
       "    }\n",
       "</style>\n",
       "<table border=\"1\" class=\"dataframe\">\n",
       "  <thead>\n",
       "    <tr style=\"text-align: right;\">\n",
       "      <th></th>\n",
       "      <th>Unnamed: 0</th>\n",
       "      <th>locationmet</th>\n",
       "      <th>otherpersons</th>\n",
       "      <th>weather</th>\n",
       "      <th>temperature</th>\n",
       "      <th>currenttime</th>\n",
       "      <th>coupon</th>\n",
       "      <th>expiration</th>\n",
       "      <th>gender</th>\n",
       "      <th>age</th>\n",
       "      <th>...</th>\n",
       "      <th>occupation</th>\n",
       "      <th>income</th>\n",
       "      <th>Bar</th>\n",
       "      <th>CoffeeHouse</th>\n",
       "      <th>CarryAway</th>\n",
       "      <th>RestaurantLessThan20</th>\n",
       "      <th>Restaurant20To50</th>\n",
       "      <th>timein5</th>\n",
       "      <th>timein15</th>\n",
       "      <th>timein25</th>\n",
       "    </tr>\n",
       "  </thead>\n",
       "  <tbody>\n",
       "    <tr>\n",
       "      <th>0</th>\n",
       "      <td>0</td>\n",
       "      <td>No Urgent Place</td>\n",
       "      <td>Alone</td>\n",
       "      <td>Sunny</td>\n",
       "      <td>55</td>\n",
       "      <td>11</td>\n",
       "      <td>Restaurant(&lt;20)</td>\n",
       "      <td>1d</td>\n",
       "      <td>Female</td>\n",
       "      <td>21</td>\n",
       "      <td>...</td>\n",
       "      <td>Unemployed</td>\n",
       "      <td>40812</td>\n",
       "      <td>0</td>\n",
       "      <td>0</td>\n",
       "      <td>3</td>\n",
       "      <td>7</td>\n",
       "      <td>38</td>\n",
       "      <td>1</td>\n",
       "      <td>0</td>\n",
       "      <td>0</td>\n",
       "    </tr>\n",
       "    <tr>\n",
       "      <th>1</th>\n",
       "      <td>1</td>\n",
       "      <td>No Urgent Place</td>\n",
       "      <td>Friend(s)</td>\n",
       "      <td>Sunny</td>\n",
       "      <td>80</td>\n",
       "      <td>9</td>\n",
       "      <td>Coffee House</td>\n",
       "      <td>2h</td>\n",
       "      <td>Female</td>\n",
       "      <td>21</td>\n",
       "      <td>...</td>\n",
       "      <td>Unemployed</td>\n",
       "      <td>44198</td>\n",
       "      <td>0</td>\n",
       "      <td>0</td>\n",
       "      <td>3</td>\n",
       "      <td>5</td>\n",
       "      <td>35</td>\n",
       "      <td>1</td>\n",
       "      <td>0</td>\n",
       "      <td>0</td>\n",
       "    </tr>\n",
       "    <tr>\n",
       "      <th>2</th>\n",
       "      <td>2</td>\n",
       "      <td>No Urgent Place</td>\n",
       "      <td>Friend(s)</td>\n",
       "      <td>Sunny</td>\n",
       "      <td>80</td>\n",
       "      <td>12</td>\n",
       "      <td>Carry out &amp; Take away</td>\n",
       "      <td>2h</td>\n",
       "      <td>Female</td>\n",
       "      <td>21</td>\n",
       "      <td>...</td>\n",
       "      <td>Unemployed</td>\n",
       "      <td>39978</td>\n",
       "      <td>0</td>\n",
       "      <td>0</td>\n",
       "      <td>3</td>\n",
       "      <td>7</td>\n",
       "      <td>50</td>\n",
       "      <td>1</td>\n",
       "      <td>1</td>\n",
       "      <td>0</td>\n",
       "    </tr>\n",
       "    <tr>\n",
       "      <th>3</th>\n",
       "      <td>3</td>\n",
       "      <td>No Urgent Place</td>\n",
       "      <td>Friend(s)</td>\n",
       "      <td>Sunny</td>\n",
       "      <td>80</td>\n",
       "      <td>14</td>\n",
       "      <td>Coffee House</td>\n",
       "      <td>2h</td>\n",
       "      <td>Female</td>\n",
       "      <td>21</td>\n",
       "      <td>...</td>\n",
       "      <td>Unemployed</td>\n",
       "      <td>48630</td>\n",
       "      <td>0</td>\n",
       "      <td>0</td>\n",
       "      <td>3</td>\n",
       "      <td>5</td>\n",
       "      <td>27</td>\n",
       "      <td>1</td>\n",
       "      <td>1</td>\n",
       "      <td>0</td>\n",
       "    </tr>\n",
       "    <tr>\n",
       "      <th>4</th>\n",
       "      <td>4</td>\n",
       "      <td>No Urgent Place</td>\n",
       "      <td>Friend(s)</td>\n",
       "      <td>Sunny</td>\n",
       "      <td>80</td>\n",
       "      <td>13</td>\n",
       "      <td>Coffee House</td>\n",
       "      <td>1d</td>\n",
       "      <td>Female</td>\n",
       "      <td>21</td>\n",
       "      <td>...</td>\n",
       "      <td>Unemployed</td>\n",
       "      <td>48583</td>\n",
       "      <td>0</td>\n",
       "      <td>0</td>\n",
       "      <td>3</td>\n",
       "      <td>7</td>\n",
       "      <td>29</td>\n",
       "      <td>1</td>\n",
       "      <td>1</td>\n",
       "      <td>0</td>\n",
       "    </tr>\n",
       "  </tbody>\n",
       "</table>\n",
       "<p>5 rows × 23 columns</p>\n",
       "</div>"
      ],
      "text/plain": [
       "   Unnamed: 0      locationmet otherpersons weather  temperature  currenttime  \\\n",
       "0           0  No Urgent Place        Alone   Sunny           55           11   \n",
       "1           1  No Urgent Place    Friend(s)   Sunny           80            9   \n",
       "2           2  No Urgent Place    Friend(s)   Sunny           80           12   \n",
       "3           3  No Urgent Place    Friend(s)   Sunny           80           14   \n",
       "4           4  No Urgent Place    Friend(s)   Sunny           80           13   \n",
       "\n",
       "                  coupon expiration  gender  age  ...  occupation  income Bar  \\\n",
       "0        Restaurant(<20)         1d  Female   21  ...  Unemployed   40812   0   \n",
       "1           Coffee House         2h  Female   21  ...  Unemployed   44198   0   \n",
       "2  Carry out & Take away         2h  Female   21  ...  Unemployed   39978   0   \n",
       "3           Coffee House         2h  Female   21  ...  Unemployed   48630   0   \n",
       "4           Coffee House         1d  Female   21  ...  Unemployed   48583   0   \n",
       "\n",
       "  CoffeeHouse  CarryAway  RestaurantLessThan20  Restaurant20To50  timein5  \\\n",
       "0           0          3                     7                38        1   \n",
       "1           0          3                     5                35        1   \n",
       "2           0          3                     7                50        1   \n",
       "3           0          3                     5                27        1   \n",
       "4           0          3                     7                29        1   \n",
       "\n",
       "   timein15  timein25  \n",
       "0         0         0  \n",
       "1         0         0  \n",
       "2         1         0  \n",
       "3         1         0  \n",
       "4         1         0  \n",
       "\n",
       "[5 rows x 23 columns]"
      ]
     },
     "execution_count": 6,
     "metadata": {},
     "output_type": "execute_result"
    }
   ],
   "source": [
    "df.head()"
   ]
  },
  {
   "cell_type": "code",
   "execution_count": 7,
   "id": "c6a05c9a",
   "metadata": {
    "scrolled": false
   },
   "outputs": [
    {
     "name": "stdout",
     "output_type": "stream",
     "text": [
      "<class 'pandas.core.frame.DataFrame'>\n",
      "RangeIndex: 12684 entries, 0 to 12683\n",
      "Data columns (total 23 columns):\n",
      " #   Column                Non-Null Count  Dtype \n",
      "---  ------                --------------  ----- \n",
      " 0   Unnamed: 0            12684 non-null  int64 \n",
      " 1   locationmet           12684 non-null  object\n",
      " 2   otherpersons          12684 non-null  object\n",
      " 3   weather               12684 non-null  object\n",
      " 4   temperature           12684 non-null  int64 \n",
      " 5   currenttime           12684 non-null  int64 \n",
      " 6   coupon                12684 non-null  object\n",
      " 7   expiration            12684 non-null  object\n",
      " 8   gender                12684 non-null  object\n",
      " 9   age                   12684 non-null  int64 \n",
      " 10  maritalStatus         12684 non-null  object\n",
      " 11  has_children          12684 non-null  int64 \n",
      " 12  education             12684 non-null  object\n",
      " 13  occupation            12684 non-null  object\n",
      " 14  income                12684 non-null  int64 \n",
      " 15  Bar                   12684 non-null  int64 \n",
      " 16  CoffeeHouse           12684 non-null  int64 \n",
      " 17  CarryAway             12684 non-null  int64 \n",
      " 18  RestaurantLessThan20  12684 non-null  int64 \n",
      " 19  Restaurant20To50      12684 non-null  int64 \n",
      " 20  timein5               12684 non-null  int64 \n",
      " 21  timein15              12684 non-null  int64 \n",
      " 22  timein25              12684 non-null  int64 \n",
      "dtypes: int64(14), object(9)\n",
      "memory usage: 2.2+ MB\n"
     ]
    }
   ],
   "source": [
    "df.info()"
   ]
  },
  {
   "cell_type": "code",
   "execution_count": 8,
   "id": "a458f3ba",
   "metadata": {},
   "outputs": [
    {
     "data": {
      "text/plain": [
       "array([ 7,  5,  4,  3,  1, 19, 16, 11, 12,  9, 13, 10, 20, 15, 18, 14,  8,\n",
       "        0, 17], dtype=int64)"
      ]
     },
     "execution_count": 8,
     "metadata": {},
     "output_type": "execute_result"
    }
   ],
   "source": [
    "df['RestaurantLessThan20'].unique()"
   ]
  },
  {
   "cell_type": "code",
   "execution_count": 9,
   "id": "34101240",
   "metadata": {
    "scrolled": true
   },
   "outputs": [],
   "source": [
    "for i in range(0,len(df['RestaurantLessThan20'])):\n",
    "    if df['RestaurantLessThan20'][i]==np.NaN:\n",
    "        df['RestaurantLessThan20'][i]=0 \n",
    "    else: \n",
    "        s=df['RestaurantLessThan20'][i]\n",
    "        if s==\"less1\":\n",
    "            df['RestaurantLessThan20'][i]=1\n",
    "        elif s==\"1~3\":\n",
    "            df['RestaurantLessThan20'][i]=3\n",
    "        elif s==\"never\":\n",
    "            df['RestaurantLessThan20'][i]=0\n",
    "        elif s==\"4~8\":\n",
    "            r=random.choice([4,5,7])\n",
    "            df['RestaurantLessThan20'][i]=r\n",
    "        elif s==\"gt8\":\n",
    "            r=random.randint(8,20)\n",
    "            df['RestaurantLessThan20'][i]=r "
   ]
  },
  {
   "cell_type": "code",
   "execution_count": 10,
   "id": "f1cf44f3",
   "metadata": {},
   "outputs": [],
   "source": [
    "df['RestaurantLessThan20']=df['RestaurantLessThan20'].fillna(0)"
   ]
  },
  {
   "cell_type": "code",
   "execution_count": 11,
   "id": "7116d8ce",
   "metadata": {},
   "outputs": [
    {
     "name": "stdout",
     "output_type": "stream",
     "text": [
      "0        7\n",
      "1        5\n",
      "2        7\n",
      "3        5\n",
      "4        7\n",
      "        ..\n",
      "12679    7\n",
      "12680    5\n",
      "12681    4\n",
      "12682    7\n",
      "12683    5\n",
      "Name: RestaurantLessThan20, Length: 12684, dtype: int64\n"
     ]
    }
   ],
   "source": [
    "print(df['RestaurantLessThan20'])"
   ]
  },
  {
   "cell_type": "code",
   "execution_count": 12,
   "id": "306365c0",
   "metadata": {},
   "outputs": [
    {
     "name": "stderr",
     "output_type": "stream",
     "text": [
      "<ipython-input-12-0113be84dbdd>:7: SettingWithCopyWarning: \n",
      "A value is trying to be set on a copy of a slice from a DataFrame\n",
      "\n",
      "See the caveats in the documentation: https://pandas.pydata.org/pandas-docs/stable/user_guide/indexing.html#returning-a-view-versus-a-copy\n",
      "  df['Restaurant20To50'][i]=r\n"
     ]
    }
   ],
   "source": [
    "for i in range(0,len(df['Restaurant20To50'])):\n",
    "    if df['Restaurant20To50'][i]==np.NaN:\n",
    "         continue\n",
    "    else: \n",
    "        s=df['Restaurant20To50'][i]\n",
    "        r=random.randint(20,50)\n",
    "        df['Restaurant20To50'][i]=r"
   ]
  },
  {
   "cell_type": "code",
   "execution_count": 13,
   "id": "11c377a6",
   "metadata": {},
   "outputs": [
    {
     "data": {
      "text/plain": [
       "<bound method Series.unique of 0        42\n",
       "1        25\n",
       "2        44\n",
       "3        27\n",
       "4        45\n",
       "         ..\n",
       "12679    29\n",
       "12680    41\n",
       "12681    23\n",
       "12682    44\n",
       "12683    27\n",
       "Name: Restaurant20To50, Length: 12684, dtype: int64>"
      ]
     },
     "execution_count": 13,
     "metadata": {},
     "output_type": "execute_result"
    }
   ],
   "source": [
    "df['Restaurant20To50'].unique"
   ]
  },
  {
   "cell_type": "code",
   "execution_count": 14,
   "id": "81895fd2",
   "metadata": {},
   "outputs": [
    {
     "name": "stdout",
     "output_type": "stream",
     "text": [
      "<class 'pandas.core.frame.DataFrame'>\n",
      "RangeIndex: 12684 entries, 0 to 12683\n",
      "Data columns (total 23 columns):\n",
      " #   Column                Non-Null Count  Dtype \n",
      "---  ------                --------------  ----- \n",
      " 0   Unnamed: 0            12684 non-null  int64 \n",
      " 1   locationmet           12684 non-null  object\n",
      " 2   otherpersons          12684 non-null  object\n",
      " 3   weather               12684 non-null  object\n",
      " 4   temperature           12684 non-null  int64 \n",
      " 5   currenttime           12684 non-null  int64 \n",
      " 6   coupon                12684 non-null  object\n",
      " 7   expiration            12684 non-null  object\n",
      " 8   gender                12684 non-null  object\n",
      " 9   age                   12684 non-null  int64 \n",
      " 10  maritalStatus         12684 non-null  object\n",
      " 11  has_children          12684 non-null  int64 \n",
      " 12  education             12684 non-null  object\n",
      " 13  occupation            12684 non-null  object\n",
      " 14  income                12684 non-null  int64 \n",
      " 15  Bar                   12684 non-null  int64 \n",
      " 16  CoffeeHouse           12684 non-null  int64 \n",
      " 17  CarryAway             12684 non-null  int64 \n",
      " 18  RestaurantLessThan20  12684 non-null  int64 \n",
      " 19  Restaurant20To50      12684 non-null  int64 \n",
      " 20  timein5               12684 non-null  int64 \n",
      " 21  timein15              12684 non-null  int64 \n",
      " 22  timein25              12684 non-null  int64 \n",
      "dtypes: int64(14), object(9)\n",
      "memory usage: 2.2+ MB\n"
     ]
    }
   ],
   "source": [
    "df.info()"
   ]
  },
  {
   "cell_type": "code",
   "execution_count": 15,
   "id": "0eb6bd0d",
   "metadata": {},
   "outputs": [
    {
     "data": {
      "text/plain": [
       "21    2653\n",
       "26    2559\n",
       "31    2039\n",
       "36    1319\n",
       "41    1093\n",
       "46     686\n",
       "60     184\n",
       "58     182\n",
       "56     174\n",
       "59     166\n",
       "57     165\n",
       "51     161\n",
       "53     159\n",
       "52     157\n",
       "55     154\n",
       "54     146\n",
       "50     140\n",
       "18     134\n",
       "20     113\n",
       "16     109\n",
       "19      96\n",
       "17      95\n",
       "Name: age, dtype: int64"
      ]
     },
     "execution_count": 15,
     "metadata": {},
     "output_type": "execute_result"
    }
   ],
   "source": [
    "df['age'].value_counts()"
   ]
  },
  {
   "cell_type": "code",
   "execution_count": 16,
   "id": "790c2bf2",
   "metadata": {
    "scrolled": false
   },
   "outputs": [],
   "source": [
    "for i in range(0,len(df['age'])):\n",
    "        if df['age'][i]==\"50plus\":\n",
    "            r=random.randint(50,60)\n",
    "            df['age'][i]=r\n",
    "        elif df['age'][i]==\"below21\":\n",
    "            r= random.randint(16,20)\n",
    "            df['age'][i]=r"
   ]
  },
  {
   "cell_type": "code",
   "execution_count": 17,
   "id": "935566d4",
   "metadata": {},
   "outputs": [
    {
     "data": {
      "text/plain": [
       "21    2653\n",
       "26    2559\n",
       "31    2039\n",
       "36    1319\n",
       "41    1093\n",
       "46     686\n",
       "60     184\n",
       "58     182\n",
       "56     174\n",
       "59     166\n",
       "57     165\n",
       "51     161\n",
       "53     159\n",
       "52     157\n",
       "55     154\n",
       "54     146\n",
       "50     140\n",
       "18     134\n",
       "20     113\n",
       "16     109\n",
       "19      96\n",
       "17      95\n",
       "Name: age, dtype: int64"
      ]
     },
     "execution_count": 17,
     "metadata": {},
     "output_type": "execute_result"
    }
   ],
   "source": [
    "df['age'].value_counts()"
   ]
  },
  {
   "cell_type": "code",
   "execution_count": 18,
   "id": "b5d041a7",
   "metadata": {},
   "outputs": [
    {
     "data": {
      "text/plain": [
       "array([ 0,  1,  3, 13, 16, 17, 18,  8, 20, 12, 14,  9, 10, 19,  2,  4,  7,\n",
       "        5, 11, 15], dtype=int64)"
      ]
     },
     "execution_count": 18,
     "metadata": {},
     "output_type": "execute_result"
    }
   ],
   "source": [
    "df['Bar'].unique()"
   ]
  },
  {
   "cell_type": "code",
   "execution_count": 19,
   "id": "7cf456ac",
   "metadata": {},
   "outputs": [],
   "source": [
    "for i in range(0,len(df['Bar'])):\n",
    "    if df['Bar'][i]==np.NaN:\n",
    "        df['Bar'][i]=0 \n",
    "    else: \n",
    "        s=df['Bar'][i]\n",
    "        if s==\"less1\":\n",
    "            df['Bar'][i]=1\n",
    "        elif s==\"1~3\":\n",
    "            df['Bar'][i]=3\n",
    "        elif s==\"never\":\n",
    "            df['Bar'][i]=0\n",
    "        elif s==\"4~8\":\n",
    "            r=random.choice([4,5,7])\n",
    "            df['Bar'][i]=r\n",
    "        elif s==\"gt8\":\n",
    "            r=random.randint(8,20)\n",
    "            df['Bar'][i]=r "
   ]
  },
  {
   "cell_type": "code",
   "execution_count": 20,
   "id": "453167b6",
   "metadata": {},
   "outputs": [
    {
     "data": {
      "text/plain": [
       "array([ 0,  1,  3, 13, 16, 17, 18,  8, 20, 12, 14,  9, 10, 19,  2,  4,  7,\n",
       "        5, 11, 15], dtype=int64)"
      ]
     },
     "execution_count": 20,
     "metadata": {},
     "output_type": "execute_result"
    }
   ],
   "source": [
    "df['Bar'].unique()"
   ]
  },
  {
   "cell_type": "code",
   "execution_count": 21,
   "id": "b2650d69",
   "metadata": {},
   "outputs": [
    {
     "data": {
      "text/plain": [
       "count    12684.000000\n",
       "mean         1.721460\n",
       "std          2.750713\n",
       "min          0.000000\n",
       "25%          0.000000\n",
       "50%          1.000000\n",
       "75%          3.000000\n",
       "max         20.000000\n",
       "Name: Bar, dtype: float64"
      ]
     },
     "execution_count": 21,
     "metadata": {},
     "output_type": "execute_result"
    }
   ],
   "source": [
    "k=df['Bar'].astype(float)\n",
    "k.describe()"
   ]
  },
  {
   "cell_type": "code",
   "execution_count": 22,
   "id": "c36acacd",
   "metadata": {},
   "outputs": [],
   "source": [
    "df['Bar']=df['Bar'].fillna(2)"
   ]
  },
  {
   "cell_type": "code",
   "execution_count": 23,
   "id": "c281b257",
   "metadata": {},
   "outputs": [
    {
     "name": "stdout",
     "output_type": "stream",
     "text": [
      "<class 'pandas.core.frame.DataFrame'>\n",
      "RangeIndex: 12684 entries, 0 to 12683\n",
      "Data columns (total 23 columns):\n",
      " #   Column                Non-Null Count  Dtype \n",
      "---  ------                --------------  ----- \n",
      " 0   Unnamed: 0            12684 non-null  int64 \n",
      " 1   locationmet           12684 non-null  object\n",
      " 2   otherpersons          12684 non-null  object\n",
      " 3   weather               12684 non-null  object\n",
      " 4   temperature           12684 non-null  int64 \n",
      " 5   currenttime           12684 non-null  int64 \n",
      " 6   coupon                12684 non-null  object\n",
      " 7   expiration            12684 non-null  object\n",
      " 8   gender                12684 non-null  object\n",
      " 9   age                   12684 non-null  int64 \n",
      " 10  maritalStatus         12684 non-null  object\n",
      " 11  has_children          12684 non-null  int64 \n",
      " 12  education             12684 non-null  object\n",
      " 13  occupation            12684 non-null  object\n",
      " 14  income                12684 non-null  int64 \n",
      " 15  Bar                   12684 non-null  int64 \n",
      " 16  CoffeeHouse           12684 non-null  int64 \n",
      " 17  CarryAway             12684 non-null  int64 \n",
      " 18  RestaurantLessThan20  12684 non-null  int64 \n",
      " 19  Restaurant20To50      12684 non-null  int64 \n",
      " 20  timein5               12684 non-null  int64 \n",
      " 21  timein15              12684 non-null  int64 \n",
      " 22  timein25              12684 non-null  int64 \n",
      "dtypes: int64(14), object(9)\n",
      "memory usage: 2.2+ MB\n"
     ]
    }
   ],
   "source": [
    "df.info()"
   ]
  },
  {
   "cell_type": "code",
   "execution_count": 24,
   "id": "f1a01097",
   "metadata": {},
   "outputs": [
    {
     "name": "stdout",
     "output_type": "stream",
     "text": [
      "<class 'pandas.core.frame.DataFrame'>\n",
      "RangeIndex: 12684 entries, 0 to 12683\n",
      "Data columns (total 23 columns):\n",
      " #   Column                Non-Null Count  Dtype \n",
      "---  ------                --------------  ----- \n",
      " 0   Unnamed: 0            12684 non-null  int64 \n",
      " 1   locationmet           12684 non-null  object\n",
      " 2   otherpersons          12684 non-null  object\n",
      " 3   weather               12684 non-null  object\n",
      " 4   temperature           12684 non-null  int64 \n",
      " 5   currenttime           12684 non-null  int64 \n",
      " 6   coupon                12684 non-null  object\n",
      " 7   expiration            12684 non-null  object\n",
      " 8   gender                12684 non-null  object\n",
      " 9   age                   12684 non-null  int64 \n",
      " 10  maritalStatus         12684 non-null  object\n",
      " 11  has_children          12684 non-null  int64 \n",
      " 12  education             12684 non-null  object\n",
      " 13  occupation            12684 non-null  object\n",
      " 14  income                12684 non-null  int64 \n",
      " 15  Bar                   12684 non-null  int64 \n",
      " 16  CoffeeHouse           12684 non-null  int64 \n",
      " 17  CarryAway             12684 non-null  int64 \n",
      " 18  RestaurantLessThan20  12684 non-null  int64 \n",
      " 19  Restaurant20To50      12684 non-null  int64 \n",
      " 20  timein5               12684 non-null  int64 \n",
      " 21  timein15              12684 non-null  int64 \n",
      " 22  timein25              12684 non-null  int64 \n",
      "dtypes: int64(14), object(9)\n",
      "memory usage: 2.2+ MB\n"
     ]
    }
   ],
   "source": [
    "df.info()"
   ]
  },
  {
   "cell_type": "code",
   "execution_count": 25,
   "id": "c9866a1a",
   "metadata": {},
   "outputs": [
    {
     "data": {
      "text/plain": [
       "3     4823\n",
       "1     1856\n",
       "4     1452\n",
       "5     1416\n",
       "7     1390\n",
       "0      153\n",
       "10     145\n",
       "12     136\n",
       "13     135\n",
       "8      129\n",
       "11     127\n",
       "17     123\n",
       "14     122\n",
       "19     119\n",
       "16     117\n",
       "15     114\n",
       "20     112\n",
       "9      112\n",
       "18     103\n",
       "Name: CarryAway, dtype: int64"
      ]
     },
     "execution_count": 25,
     "metadata": {},
     "output_type": "execute_result"
    }
   ],
   "source": [
    "df['CarryAway'].value_counts()"
   ]
  },
  {
   "cell_type": "code",
   "execution_count": 26,
   "id": "18bbeb67",
   "metadata": {},
   "outputs": [],
   "source": [
    "for i in range(0,len(df['CarryAway'])):\n",
    "    if df['CarryAway'][i]==np.NaN:\n",
    "        df['CarryAway'][i]=0 \n",
    "    else: \n",
    "        s=df['CarryAway'][i]\n",
    "        if s==\"less1\":\n",
    "            df['CarryAway'][i]=1\n",
    "        elif s==\"1~3\":\n",
    "            df['CarryAway'][i]=3\n",
    "        elif s==\"never\":\n",
    "            df['CarryAway'][i]=0\n",
    "        elif s==\"4~8\":\n",
    "            r=random.choice([4,5,7])\n",
    "            df['CarryAway'][i]=r\n",
    "        elif s==\"gt8\":\n",
    "            r=random.randint(8,20)\n",
    "            df['CarryAway'][i]=r "
   ]
  },
  {
   "cell_type": "code",
   "execution_count": 27,
   "id": "c9259a6b",
   "metadata": {},
   "outputs": [
    {
     "data": {
      "text/plain": [
       "array([ 3,  5,  7,  4, 19, 18, 15, 17,  8, 13, 16, 12, 10, 14,  9, 11, 20,\n",
       "        1,  0], dtype=int64)"
      ]
     },
     "execution_count": 27,
     "metadata": {},
     "output_type": "execute_result"
    }
   ],
   "source": [
    "df['CarryAway'].unique()"
   ]
  },
  {
   "cell_type": "code",
   "execution_count": 28,
   "id": "307026a1",
   "metadata": {},
   "outputs": [],
   "source": [
    "df['CarryAway']=df['CarryAway'].fillna(3)"
   ]
  },
  {
   "cell_type": "code",
   "execution_count": 29,
   "id": "05535780",
   "metadata": {},
   "outputs": [
    {
     "name": "stdout",
     "output_type": "stream",
     "text": [
      "<class 'pandas.core.frame.DataFrame'>\n",
      "RangeIndex: 12684 entries, 0 to 12683\n",
      "Data columns (total 23 columns):\n",
      " #   Column                Non-Null Count  Dtype \n",
      "---  ------                --------------  ----- \n",
      " 0   Unnamed: 0            12684 non-null  int64 \n",
      " 1   locationmet           12684 non-null  object\n",
      " 2   otherpersons          12684 non-null  object\n",
      " 3   weather               12684 non-null  object\n",
      " 4   temperature           12684 non-null  int64 \n",
      " 5   currenttime           12684 non-null  int64 \n",
      " 6   coupon                12684 non-null  object\n",
      " 7   expiration            12684 non-null  object\n",
      " 8   gender                12684 non-null  object\n",
      " 9   age                   12684 non-null  int64 \n",
      " 10  maritalStatus         12684 non-null  object\n",
      " 11  has_children          12684 non-null  int64 \n",
      " 12  education             12684 non-null  object\n",
      " 13  occupation            12684 non-null  object\n",
      " 14  income                12684 non-null  int64 \n",
      " 15  Bar                   12684 non-null  int64 \n",
      " 16  CoffeeHouse           12684 non-null  int64 \n",
      " 17  CarryAway             12684 non-null  int64 \n",
      " 18  RestaurantLessThan20  12684 non-null  int64 \n",
      " 19  Restaurant20To50      12684 non-null  int64 \n",
      " 20  timein5               12684 non-null  int64 \n",
      " 21  timein15              12684 non-null  int64 \n",
      " 22  timein25              12684 non-null  int64 \n",
      "dtypes: int64(14), object(9)\n",
      "memory usage: 2.2+ MB\n"
     ]
    }
   ],
   "source": [
    "df.info()"
   ]
  },
  {
   "cell_type": "code",
   "execution_count": 30,
   "id": "30062acc",
   "metadata": {},
   "outputs": [],
   "source": [
    "for i in range(0,len(df['CoffeeHouse'])):\n",
    "    if df['CoffeeHouse'][i]==np.NaN:\n",
    "        df['CoffeeHouse'][i]=0 \n",
    "    else: \n",
    "        s=df['CoffeeHouse'][i]\n",
    "        if s==\"less1\":\n",
    "            df['CoffeeHouse'][i]=1\n",
    "        elif s==\"1~3\":\n",
    "            df['CoffeeHouse'][i]=3\n",
    "        elif s==\"never\":\n",
    "            df['CoffeeHouse'][i]=0\n",
    "        elif s==\"4~8\":\n",
    "            r=random.choice([4,5,7])\n",
    "            df['CoffeeHouse'][i]=r\n",
    "        elif s==\"gt8\":\n",
    "            r=random.randint(8,20)\n",
    "            df['CoffeeHouse'][i]=r"
   ]
  },
  {
   "cell_type": "code",
   "execution_count": 31,
   "id": "e3a24d1f",
   "metadata": {},
   "outputs": [],
   "source": [
    "  df['CoffeeHouse']= df['CoffeeHouse'].fillna(0)"
   ]
  },
  {
   "cell_type": "code",
   "execution_count": 32,
   "id": "12b379a9",
   "metadata": {},
   "outputs": [
    {
     "name": "stdout",
     "output_type": "stream",
     "text": [
      "<class 'pandas.core.frame.DataFrame'>\n",
      "RangeIndex: 12684 entries, 0 to 12683\n",
      "Data columns (total 23 columns):\n",
      " #   Column                Non-Null Count  Dtype \n",
      "---  ------                --------------  ----- \n",
      " 0   Unnamed: 0            12684 non-null  int64 \n",
      " 1   locationmet           12684 non-null  object\n",
      " 2   otherpersons          12684 non-null  object\n",
      " 3   weather               12684 non-null  object\n",
      " 4   temperature           12684 non-null  int64 \n",
      " 5   currenttime           12684 non-null  int64 \n",
      " 6   coupon                12684 non-null  object\n",
      " 7   expiration            12684 non-null  object\n",
      " 8   gender                12684 non-null  object\n",
      " 9   age                   12684 non-null  int64 \n",
      " 10  maritalStatus         12684 non-null  object\n",
      " 11  has_children          12684 non-null  int64 \n",
      " 12  education             12684 non-null  object\n",
      " 13  occupation            12684 non-null  object\n",
      " 14  income                12684 non-null  int64 \n",
      " 15  Bar                   12684 non-null  int64 \n",
      " 16  CoffeeHouse           12684 non-null  int64 \n",
      " 17  CarryAway             12684 non-null  int64 \n",
      " 18  RestaurantLessThan20  12684 non-null  int64 \n",
      " 19  Restaurant20To50      12684 non-null  int64 \n",
      " 20  timein5               12684 non-null  int64 \n",
      " 21  timein15              12684 non-null  int64 \n",
      " 22  timein25              12684 non-null  int64 \n",
      "dtypes: int64(14), object(9)\n",
      "memory usage: 2.2+ MB\n"
     ]
    }
   ],
   "source": [
    "df.info()"
   ]
  },
  {
   "cell_type": "code",
   "execution_count": 33,
   "id": "6555b604",
   "metadata": {},
   "outputs": [
    {
     "data": {
      "text/plain": [
       "array([40812, 44198, 39978, ..., 86396, 77755, 82076], dtype=int64)"
      ]
     },
     "execution_count": 33,
     "metadata": {},
     "output_type": "execute_result"
    }
   ],
   "source": [
    "df['income'].unique()"
   ]
  },
  {
   "cell_type": "code",
   "execution_count": 34,
   "id": "0f084272",
   "metadata": {},
   "outputs": [
    {
     "name": "stderr",
     "output_type": "stream",
     "text": [
      "<ipython-input-34-1d977936526e>:29: SettingWithCopyWarning: \n",
      "A value is trying to be set on a copy of a slice from a DataFrame\n",
      "\n",
      "See the caveats in the documentation: https://pandas.pydata.org/pandas-docs/stable/user_guide/indexing.html#returning-a-view-versus-a-copy\n",
      "  df['income'][i]=r\n"
     ]
    }
   ],
   "source": [
    "for i in range(0,len(df['income'])):\n",
    "    s=df['income'][i]\n",
    "    if s==\"$37500 - $49999\":\n",
    "        r=random.randint(37500,49999)\n",
    "        df['income'][i]=r\n",
    "    elif s==\"$62500 - $74999\":\n",
    "        r=random.randint(62500,74999)\n",
    "        df['income'][i]=r\n",
    "    elif s==\"$12500 - $24999\":\n",
    "        r=random.randint(12500,24999)\n",
    "        df['income'][i]=r\n",
    "    elif s=='$75000 - $87499':\n",
    "        r=random.randint(75000,87499)\n",
    "        df['income'][i]=r\n",
    "    elif s=='$50000 - $62499':\n",
    "        r= random.randint(50000,62499)\n",
    "        df['income'][i]=r\n",
    "    elif s=='$25000 - $37499':\n",
    "        r=random.randint(25000,37499)\n",
    "        df['income'][i]=r\n",
    "    elif s=='$100000 or More':\n",
    "        r= random.randint(100000,110000)\n",
    "        df['income'][i]=r\n",
    "    elif s=='$87500 - $99999':\n",
    "        r= random.randint(87500,99999)\n",
    "        df['income'][i]=r\n",
    "    else:\n",
    "        r= random.randint(10000,12499)\n",
    "        df['income'][i]=r\n",
    "    "
   ]
  },
  {
   "cell_type": "code",
   "execution_count": 35,
   "id": "33b48ae9",
   "metadata": {},
   "outputs": [
    {
     "name": "stderr",
     "output_type": "stream",
     "text": [
      "<ipython-input-35-32b04643678a>:2: SettingWithCopyWarning: \n",
      "A value is trying to be set on a copy of a slice from a DataFrame\n",
      "\n",
      "See the caveats in the documentation: https://pandas.pydata.org/pandas-docs/stable/user_guide/indexing.html#returning-a-view-versus-a-copy\n",
      "  df['currenttime'][i]=random.randint(9,21)\n"
     ]
    }
   ],
   "source": [
    "for i in range(0,len(df['currenttime'])):\n",
    "    df['currenttime'][i]=random.randint(9,21)"
   ]
  },
  {
   "cell_type": "code",
   "execution_count": 36,
   "id": "ccb9484b",
   "metadata": {},
   "outputs": [
    {
     "data": {
      "text/plain": [
       "11    1025\n",
       "12    1007\n",
       "14     997\n",
       "13     991\n",
       "15     983\n",
       "20     975\n",
       "10     974\n",
       "16     972\n",
       "17     967\n",
       "21     964\n",
       "9      958\n",
       "19     938\n",
       "18     933\n",
       "Name: currenttime, dtype: int64"
      ]
     },
     "execution_count": 36,
     "metadata": {},
     "output_type": "execute_result"
    }
   ],
   "source": [
    "df['currenttime'].value_counts()"
   ]
  },
  {
   "cell_type": "code",
   "execution_count": 37,
   "id": "cb11d4c7",
   "metadata": {},
   "outputs": [
    {
     "ename": "FileNotFoundError",
     "evalue": "[Errno 2] No such file or directory: 'C:\\\\Users\\\\vigne\\\\Desktop\\\\fds_proj.xlsx'",
     "output_type": "error",
     "traceback": [
      "\u001b[1;31m---------------------------------------------------------------------------\u001b[0m",
      "\u001b[1;31mFileNotFoundError\u001b[0m                         Traceback (most recent call last)",
      "\u001b[1;32m<ipython-input-37-375b20f65c85>\u001b[0m in \u001b[0;36m<module>\u001b[1;34m\u001b[0m\n\u001b[1;32m----> 1\u001b[1;33m \u001b[0mdf\u001b[0m\u001b[1;33m.\u001b[0m\u001b[0mto_excel\u001b[0m\u001b[1;33m(\u001b[0m\u001b[1;34m\"C:\\\\Users\\\\vigne\\\\Desktop\\\\fds_proj.xlsx\"\u001b[0m\u001b[1;33m)\u001b[0m\u001b[1;33m\u001b[0m\u001b[1;33m\u001b[0m\u001b[0m\n\u001b[0m",
      "\u001b[1;32m~\\anaconda3\\lib\\site-packages\\pandas\\core\\generic.py\u001b[0m in \u001b[0;36mto_excel\u001b[1;34m(self, excel_writer, sheet_name, na_rep, float_format, columns, header, index, index_label, startrow, startcol, engine, merge_cells, encoding, inf_rep, verbose, freeze_panes, storage_options)\u001b[0m\n\u001b[0;32m   2187\u001b[0m             \u001b[0minf_rep\u001b[0m\u001b[1;33m=\u001b[0m\u001b[0minf_rep\u001b[0m\u001b[1;33m,\u001b[0m\u001b[1;33m\u001b[0m\u001b[1;33m\u001b[0m\u001b[0m\n\u001b[0;32m   2188\u001b[0m         )\n\u001b[1;32m-> 2189\u001b[1;33m         formatter.write(\n\u001b[0m\u001b[0;32m   2190\u001b[0m             \u001b[0mexcel_writer\u001b[0m\u001b[1;33m,\u001b[0m\u001b[1;33m\u001b[0m\u001b[1;33m\u001b[0m\u001b[0m\n\u001b[0;32m   2191\u001b[0m             \u001b[0msheet_name\u001b[0m\u001b[1;33m=\u001b[0m\u001b[0msheet_name\u001b[0m\u001b[1;33m,\u001b[0m\u001b[1;33m\u001b[0m\u001b[1;33m\u001b[0m\u001b[0m\n",
      "\u001b[1;32m~\\anaconda3\\lib\\site-packages\\pandas\\io\\formats\\excel.py\u001b[0m in \u001b[0;36mwrite\u001b[1;34m(self, writer, sheet_name, startrow, startcol, freeze_panes, engine, storage_options)\u001b[0m\n\u001b[0;32m    813\u001b[0m             \u001b[1;31m# abstract class 'ExcelWriter' with abstract attributes 'engine',\u001b[0m\u001b[1;33m\u001b[0m\u001b[1;33m\u001b[0m\u001b[1;33m\u001b[0m\u001b[0m\n\u001b[0;32m    814\u001b[0m             \u001b[1;31m# 'save', 'supported_extensions' and 'write_cells'  [abstract]\u001b[0m\u001b[1;33m\u001b[0m\u001b[1;33m\u001b[0m\u001b[1;33m\u001b[0m\u001b[0m\n\u001b[1;32m--> 815\u001b[1;33m             writer = ExcelWriter(  # type: ignore[abstract]\n\u001b[0m\u001b[0;32m    816\u001b[0m                 \u001b[0mwriter\u001b[0m\u001b[1;33m,\u001b[0m \u001b[0mengine\u001b[0m\u001b[1;33m=\u001b[0m\u001b[0mengine\u001b[0m\u001b[1;33m,\u001b[0m \u001b[0mstorage_options\u001b[0m\u001b[1;33m=\u001b[0m\u001b[0mstorage_options\u001b[0m\u001b[1;33m\u001b[0m\u001b[1;33m\u001b[0m\u001b[0m\n\u001b[0;32m    817\u001b[0m             )\n",
      "\u001b[1;32m~\\anaconda3\\lib\\site-packages\\pandas\\io\\excel\\_xlsxwriter.py\u001b[0m in \u001b[0;36m__init__\u001b[1;34m(self, path, engine, date_format, datetime_format, mode, storage_options, **engine_kwargs)\u001b[0m\n\u001b[0;32m    180\u001b[0m             \u001b[1;32mraise\u001b[0m \u001b[0mValueError\u001b[0m\u001b[1;33m(\u001b[0m\u001b[1;34m\"Append mode is not supported with xlsxwriter!\"\u001b[0m\u001b[1;33m)\u001b[0m\u001b[1;33m\u001b[0m\u001b[1;33m\u001b[0m\u001b[0m\n\u001b[0;32m    181\u001b[0m \u001b[1;33m\u001b[0m\u001b[0m\n\u001b[1;32m--> 182\u001b[1;33m         super().__init__(\n\u001b[0m\u001b[0;32m    183\u001b[0m             \u001b[0mpath\u001b[0m\u001b[1;33m,\u001b[0m\u001b[1;33m\u001b[0m\u001b[1;33m\u001b[0m\u001b[0m\n\u001b[0;32m    184\u001b[0m             \u001b[0mengine\u001b[0m\u001b[1;33m=\u001b[0m\u001b[0mengine\u001b[0m\u001b[1;33m,\u001b[0m\u001b[1;33m\u001b[0m\u001b[1;33m\u001b[0m\u001b[0m\n",
      "\u001b[1;32m~\\anaconda3\\lib\\site-packages\\pandas\\io\\excel\\_base.py\u001b[0m in \u001b[0;36m__init__\u001b[1;34m(self, path, engine, date_format, datetime_format, mode, storage_options, **engine_kwargs)\u001b[0m\n\u001b[0;32m    808\u001b[0m         \u001b[0mself\u001b[0m\u001b[1;33m.\u001b[0m\u001b[0mhandles\u001b[0m \u001b[1;33m=\u001b[0m \u001b[0mIOHandles\u001b[0m\u001b[1;33m(\u001b[0m\u001b[0mcast\u001b[0m\u001b[1;33m(\u001b[0m\u001b[0mBuffer\u001b[0m\u001b[1;33m,\u001b[0m \u001b[0mpath\u001b[0m\u001b[1;33m)\u001b[0m\u001b[1;33m,\u001b[0m \u001b[0mcompression\u001b[0m\u001b[1;33m=\u001b[0m\u001b[1;33m{\u001b[0m\u001b[1;34m\"copression\"\u001b[0m\u001b[1;33m:\u001b[0m \u001b[1;32mNone\u001b[0m\u001b[1;33m}\u001b[0m\u001b[1;33m)\u001b[0m\u001b[1;33m\u001b[0m\u001b[1;33m\u001b[0m\u001b[0m\n\u001b[0;32m    809\u001b[0m         \u001b[1;32mif\u001b[0m \u001b[1;32mnot\u001b[0m \u001b[0misinstance\u001b[0m\u001b[1;33m(\u001b[0m\u001b[0mpath\u001b[0m\u001b[1;33m,\u001b[0m \u001b[0mExcelWriter\u001b[0m\u001b[1;33m)\u001b[0m\u001b[1;33m:\u001b[0m\u001b[1;33m\u001b[0m\u001b[1;33m\u001b[0m\u001b[0m\n\u001b[1;32m--> 810\u001b[1;33m             self.handles = get_handle(\n\u001b[0m\u001b[0;32m    811\u001b[0m                 \u001b[0mpath\u001b[0m\u001b[1;33m,\u001b[0m \u001b[0mmode\u001b[0m\u001b[1;33m,\u001b[0m \u001b[0mstorage_options\u001b[0m\u001b[1;33m=\u001b[0m\u001b[0mstorage_options\u001b[0m\u001b[1;33m,\u001b[0m \u001b[0mis_text\u001b[0m\u001b[1;33m=\u001b[0m\u001b[1;32mFalse\u001b[0m\u001b[1;33m\u001b[0m\u001b[1;33m\u001b[0m\u001b[0m\n\u001b[0;32m    812\u001b[0m             )\n",
      "\u001b[1;32m~\\anaconda3\\lib\\site-packages\\pandas\\io\\common.py\u001b[0m in \u001b[0;36mget_handle\u001b[1;34m(path_or_buf, mode, encoding, compression, memory_map, is_text, errors, storage_options)\u001b[0m\n\u001b[0;32m    649\u001b[0m         \u001b[1;32melse\u001b[0m\u001b[1;33m:\u001b[0m\u001b[1;33m\u001b[0m\u001b[1;33m\u001b[0m\u001b[0m\n\u001b[0;32m    650\u001b[0m             \u001b[1;31m# Binary mode\u001b[0m\u001b[1;33m\u001b[0m\u001b[1;33m\u001b[0m\u001b[1;33m\u001b[0m\u001b[0m\n\u001b[1;32m--> 651\u001b[1;33m             \u001b[0mhandle\u001b[0m \u001b[1;33m=\u001b[0m \u001b[0mopen\u001b[0m\u001b[1;33m(\u001b[0m\u001b[0mhandle\u001b[0m\u001b[1;33m,\u001b[0m \u001b[0mioargs\u001b[0m\u001b[1;33m.\u001b[0m\u001b[0mmode\u001b[0m\u001b[1;33m)\u001b[0m\u001b[1;33m\u001b[0m\u001b[1;33m\u001b[0m\u001b[0m\n\u001b[0m\u001b[0;32m    652\u001b[0m         \u001b[0mhandles\u001b[0m\u001b[1;33m.\u001b[0m\u001b[0mappend\u001b[0m\u001b[1;33m(\u001b[0m\u001b[0mhandle\u001b[0m\u001b[1;33m)\u001b[0m\u001b[1;33m\u001b[0m\u001b[1;33m\u001b[0m\u001b[0m\n\u001b[0;32m    653\u001b[0m \u001b[1;33m\u001b[0m\u001b[0m\n",
      "\u001b[1;31mFileNotFoundError\u001b[0m: [Errno 2] No such file or directory: 'C:\\\\Users\\\\vigne\\\\Desktop\\\\fds_proj.xlsx'"
     ]
    }
   ],
   "source": [
    "df.to_excel(\"C:\\\\Users\\\\vigne\\\\Desktop\\\\fds_proj.xlsx\") "
   ]
  },
  {
   "cell_type": "code",
   "execution_count": null,
   "id": "e76ad240",
   "metadata": {},
   "outputs": [],
   "source": []
  }
 ],
 "metadata": {
  "kernelspec": {
   "display_name": "Python 3",
   "language": "python",
   "name": "python3"
  },
  "language_info": {
   "codemirror_mode": {
    "name": "ipython",
    "version": 3
   },
   "file_extension": ".py",
   "mimetype": "text/x-python",
   "name": "python",
   "nbconvert_exporter": "python",
   "pygments_lexer": "ipython3",
   "version": "3.8.8"
  }
 },
 "nbformat": 4,
 "nbformat_minor": 5
}
