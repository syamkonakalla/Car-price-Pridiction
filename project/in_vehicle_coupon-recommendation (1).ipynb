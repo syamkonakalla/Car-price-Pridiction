{
 "cells": [
  {
   "cell_type": "code",
   "execution_count": 1,
   "id": "3d57cf03",
   "metadata": {},
   "outputs": [],
   "source": [
    "import numpy as np\n",
    "import pandas as pd\n",
    "import matplotlib.pyplot as plt\n",
    "import seaborn as sns\n",
    "from sklearn.preprocessing import LabelEncoder\n",
    "sns.set(rc={'figure.figsize':(6,6)})\n"
   ]
  },
  {
   "cell_type": "code",
   "execution_count": 2,
   "id": "770ffef1",
   "metadata": {},
   "outputs": [],
   "source": [
    "import numpy as np\n",
    "import pandas as pd\n",
    "import matplotlib.pyplot as plt\n",
    "from collections import Counter\n",
    "#from pandas.plotiing import scatter_matrix\n",
    "from sklearn.linear_model import LogisticRegression # logistic regression\n",
    "from sklearn import svm # support vector machine\n",
    "from sklearn.ensemble import RandomForestClassifier #Random_forest\n",
    "from sklearn.tree import DecisionTreeClassifier #Decision tree\n",
    "from sklearn.naive_bayes import GaussianNB #Naive_bayes\n",
    "from sklearn.neighbors import KNeighborsClassifier #K nearest neighbors\n",
    "from sklearn.preprocessing import LabelEncoder\n",
    "from sklearn.model_selection import train_test_split\n",
    "from sklearn.model_selection import cross_val_score\n",
    "from sklearn.model_selection import cross_val_predict\n",
    "from sklearn.model_selection import KFold\n",
    "from sklearn.metrics import confusion_matrix\n",
    "from sklearn.metrics import classification_report\n",
    "import statsmodels.api as sm"
   ]
  },
  {
   "cell_type": "code",
   "execution_count": 5,
   "id": "aac6d268",
   "metadata": {},
   "outputs": [
    {
     "ename": "FileNotFoundError",
     "evalue": "[Errno 2] No such file or directory: 'in-vehicle-coupon-recommendation.csv'",
     "output_type": "error",
     "traceback": [
      "\u001b[1;31m---------------------------------------------------------------------------\u001b[0m",
      "\u001b[1;31mFileNotFoundError\u001b[0m                         Traceback (most recent call last)",
      "\u001b[1;32m<ipython-input-5-68a295f6d89f>\u001b[0m in \u001b[0;36m<module>\u001b[1;34m\u001b[0m\n\u001b[1;32m----> 1\u001b[1;33m \u001b[0mdata\u001b[0m\u001b[1;33m=\u001b[0m\u001b[0mpd\u001b[0m\u001b[1;33m.\u001b[0m\u001b[0mread_csv\u001b[0m\u001b[1;33m(\u001b[0m\u001b[1;34m'in-vehicle-coupon-recommendation.csv'\u001b[0m\u001b[1;33m)\u001b[0m\u001b[1;33m\u001b[0m\u001b[1;33m\u001b[0m\u001b[0m\n\u001b[0m",
      "\u001b[1;32m~\\anaconda3\\lib\\site-packages\\pandas\\io\\parsers.py\u001b[0m in \u001b[0;36mread_csv\u001b[1;34m(filepath_or_buffer, sep, delimiter, header, names, index_col, usecols, squeeze, prefix, mangle_dupe_cols, dtype, engine, converters, true_values, false_values, skipinitialspace, skiprows, skipfooter, nrows, na_values, keep_default_na, na_filter, verbose, skip_blank_lines, parse_dates, infer_datetime_format, keep_date_col, date_parser, dayfirst, cache_dates, iterator, chunksize, compression, thousands, decimal, lineterminator, quotechar, quoting, doublequote, escapechar, comment, encoding, dialect, error_bad_lines, warn_bad_lines, delim_whitespace, low_memory, memory_map, float_precision, storage_options)\u001b[0m\n\u001b[0;32m    608\u001b[0m     \u001b[0mkwds\u001b[0m\u001b[1;33m.\u001b[0m\u001b[0mupdate\u001b[0m\u001b[1;33m(\u001b[0m\u001b[0mkwds_defaults\u001b[0m\u001b[1;33m)\u001b[0m\u001b[1;33m\u001b[0m\u001b[1;33m\u001b[0m\u001b[0m\n\u001b[0;32m    609\u001b[0m \u001b[1;33m\u001b[0m\u001b[0m\n\u001b[1;32m--> 610\u001b[1;33m     \u001b[1;32mreturn\u001b[0m \u001b[0m_read\u001b[0m\u001b[1;33m(\u001b[0m\u001b[0mfilepath_or_buffer\u001b[0m\u001b[1;33m,\u001b[0m \u001b[0mkwds\u001b[0m\u001b[1;33m)\u001b[0m\u001b[1;33m\u001b[0m\u001b[1;33m\u001b[0m\u001b[0m\n\u001b[0m\u001b[0;32m    611\u001b[0m \u001b[1;33m\u001b[0m\u001b[0m\n\u001b[0;32m    612\u001b[0m \u001b[1;33m\u001b[0m\u001b[0m\n",
      "\u001b[1;32m~\\anaconda3\\lib\\site-packages\\pandas\\io\\parsers.py\u001b[0m in \u001b[0;36m_read\u001b[1;34m(filepath_or_buffer, kwds)\u001b[0m\n\u001b[0;32m    460\u001b[0m \u001b[1;33m\u001b[0m\u001b[0m\n\u001b[0;32m    461\u001b[0m     \u001b[1;31m# Create the parser.\u001b[0m\u001b[1;33m\u001b[0m\u001b[1;33m\u001b[0m\u001b[1;33m\u001b[0m\u001b[0m\n\u001b[1;32m--> 462\u001b[1;33m     \u001b[0mparser\u001b[0m \u001b[1;33m=\u001b[0m \u001b[0mTextFileReader\u001b[0m\u001b[1;33m(\u001b[0m\u001b[0mfilepath_or_buffer\u001b[0m\u001b[1;33m,\u001b[0m \u001b[1;33m**\u001b[0m\u001b[0mkwds\u001b[0m\u001b[1;33m)\u001b[0m\u001b[1;33m\u001b[0m\u001b[1;33m\u001b[0m\u001b[0m\n\u001b[0m\u001b[0;32m    463\u001b[0m \u001b[1;33m\u001b[0m\u001b[0m\n\u001b[0;32m    464\u001b[0m     \u001b[1;32mif\u001b[0m \u001b[0mchunksize\u001b[0m \u001b[1;32mor\u001b[0m \u001b[0miterator\u001b[0m\u001b[1;33m:\u001b[0m\u001b[1;33m\u001b[0m\u001b[1;33m\u001b[0m\u001b[0m\n",
      "\u001b[1;32m~\\anaconda3\\lib\\site-packages\\pandas\\io\\parsers.py\u001b[0m in \u001b[0;36m__init__\u001b[1;34m(self, f, engine, **kwds)\u001b[0m\n\u001b[0;32m    817\u001b[0m             \u001b[0mself\u001b[0m\u001b[1;33m.\u001b[0m\u001b[0moptions\u001b[0m\u001b[1;33m[\u001b[0m\u001b[1;34m\"has_index_names\"\u001b[0m\u001b[1;33m]\u001b[0m \u001b[1;33m=\u001b[0m \u001b[0mkwds\u001b[0m\u001b[1;33m[\u001b[0m\u001b[1;34m\"has_index_names\"\u001b[0m\u001b[1;33m]\u001b[0m\u001b[1;33m\u001b[0m\u001b[1;33m\u001b[0m\u001b[0m\n\u001b[0;32m    818\u001b[0m \u001b[1;33m\u001b[0m\u001b[0m\n\u001b[1;32m--> 819\u001b[1;33m         \u001b[0mself\u001b[0m\u001b[1;33m.\u001b[0m\u001b[0m_engine\u001b[0m \u001b[1;33m=\u001b[0m \u001b[0mself\u001b[0m\u001b[1;33m.\u001b[0m\u001b[0m_make_engine\u001b[0m\u001b[1;33m(\u001b[0m\u001b[0mself\u001b[0m\u001b[1;33m.\u001b[0m\u001b[0mengine\u001b[0m\u001b[1;33m)\u001b[0m\u001b[1;33m\u001b[0m\u001b[1;33m\u001b[0m\u001b[0m\n\u001b[0m\u001b[0;32m    820\u001b[0m \u001b[1;33m\u001b[0m\u001b[0m\n\u001b[0;32m    821\u001b[0m     \u001b[1;32mdef\u001b[0m \u001b[0mclose\u001b[0m\u001b[1;33m(\u001b[0m\u001b[0mself\u001b[0m\u001b[1;33m)\u001b[0m\u001b[1;33m:\u001b[0m\u001b[1;33m\u001b[0m\u001b[1;33m\u001b[0m\u001b[0m\n",
      "\u001b[1;32m~\\anaconda3\\lib\\site-packages\\pandas\\io\\parsers.py\u001b[0m in \u001b[0;36m_make_engine\u001b[1;34m(self, engine)\u001b[0m\n\u001b[0;32m   1048\u001b[0m             )\n\u001b[0;32m   1049\u001b[0m         \u001b[1;31m# error: Too many arguments for \"ParserBase\"\u001b[0m\u001b[1;33m\u001b[0m\u001b[1;33m\u001b[0m\u001b[1;33m\u001b[0m\u001b[0m\n\u001b[1;32m-> 1050\u001b[1;33m         \u001b[1;32mreturn\u001b[0m \u001b[0mmapping\u001b[0m\u001b[1;33m[\u001b[0m\u001b[0mengine\u001b[0m\u001b[1;33m]\u001b[0m\u001b[1;33m(\u001b[0m\u001b[0mself\u001b[0m\u001b[1;33m.\u001b[0m\u001b[0mf\u001b[0m\u001b[1;33m,\u001b[0m \u001b[1;33m**\u001b[0m\u001b[0mself\u001b[0m\u001b[1;33m.\u001b[0m\u001b[0moptions\u001b[0m\u001b[1;33m)\u001b[0m  \u001b[1;31m# type: ignore[call-arg]\u001b[0m\u001b[1;33m\u001b[0m\u001b[1;33m\u001b[0m\u001b[0m\n\u001b[0m\u001b[0;32m   1051\u001b[0m \u001b[1;33m\u001b[0m\u001b[0m\n\u001b[0;32m   1052\u001b[0m     \u001b[1;32mdef\u001b[0m \u001b[0m_failover_to_python\u001b[0m\u001b[1;33m(\u001b[0m\u001b[0mself\u001b[0m\u001b[1;33m)\u001b[0m\u001b[1;33m:\u001b[0m\u001b[1;33m\u001b[0m\u001b[1;33m\u001b[0m\u001b[0m\n",
      "\u001b[1;32m~\\anaconda3\\lib\\site-packages\\pandas\\io\\parsers.py\u001b[0m in \u001b[0;36m__init__\u001b[1;34m(self, src, **kwds)\u001b[0m\n\u001b[0;32m   1865\u001b[0m \u001b[1;33m\u001b[0m\u001b[0m\n\u001b[0;32m   1866\u001b[0m         \u001b[1;31m# open handles\u001b[0m\u001b[1;33m\u001b[0m\u001b[1;33m\u001b[0m\u001b[1;33m\u001b[0m\u001b[0m\n\u001b[1;32m-> 1867\u001b[1;33m         \u001b[0mself\u001b[0m\u001b[1;33m.\u001b[0m\u001b[0m_open_handles\u001b[0m\u001b[1;33m(\u001b[0m\u001b[0msrc\u001b[0m\u001b[1;33m,\u001b[0m \u001b[0mkwds\u001b[0m\u001b[1;33m)\u001b[0m\u001b[1;33m\u001b[0m\u001b[1;33m\u001b[0m\u001b[0m\n\u001b[0m\u001b[0;32m   1868\u001b[0m         \u001b[1;32massert\u001b[0m \u001b[0mself\u001b[0m\u001b[1;33m.\u001b[0m\u001b[0mhandles\u001b[0m \u001b[1;32mis\u001b[0m \u001b[1;32mnot\u001b[0m \u001b[1;32mNone\u001b[0m\u001b[1;33m\u001b[0m\u001b[1;33m\u001b[0m\u001b[0m\n\u001b[0;32m   1869\u001b[0m         \u001b[1;32mfor\u001b[0m \u001b[0mkey\u001b[0m \u001b[1;32min\u001b[0m \u001b[1;33m(\u001b[0m\u001b[1;34m\"storage_options\"\u001b[0m\u001b[1;33m,\u001b[0m \u001b[1;34m\"encoding\"\u001b[0m\u001b[1;33m,\u001b[0m \u001b[1;34m\"memory_map\"\u001b[0m\u001b[1;33m,\u001b[0m \u001b[1;34m\"compression\"\u001b[0m\u001b[1;33m)\u001b[0m\u001b[1;33m:\u001b[0m\u001b[1;33m\u001b[0m\u001b[1;33m\u001b[0m\u001b[0m\n",
      "\u001b[1;32m~\\anaconda3\\lib\\site-packages\\pandas\\io\\parsers.py\u001b[0m in \u001b[0;36m_open_handles\u001b[1;34m(self, src, kwds)\u001b[0m\n\u001b[0;32m   1360\u001b[0m         \u001b[0mLet\u001b[0m \u001b[0mthe\u001b[0m \u001b[0mreaders\u001b[0m \u001b[0mopen\u001b[0m \u001b[0mIOHanldes\u001b[0m \u001b[0mafter\u001b[0m \u001b[0mthey\u001b[0m \u001b[0mare\u001b[0m \u001b[0mdone\u001b[0m \u001b[1;32mwith\u001b[0m \u001b[0mtheir\u001b[0m \u001b[0mpotential\u001b[0m \u001b[0mraises\u001b[0m\u001b[1;33m.\u001b[0m\u001b[1;33m\u001b[0m\u001b[1;33m\u001b[0m\u001b[0m\n\u001b[0;32m   1361\u001b[0m         \"\"\"\n\u001b[1;32m-> 1362\u001b[1;33m         self.handles = get_handle(\n\u001b[0m\u001b[0;32m   1363\u001b[0m             \u001b[0msrc\u001b[0m\u001b[1;33m,\u001b[0m\u001b[1;33m\u001b[0m\u001b[1;33m\u001b[0m\u001b[0m\n\u001b[0;32m   1364\u001b[0m             \u001b[1;34m\"r\"\u001b[0m\u001b[1;33m,\u001b[0m\u001b[1;33m\u001b[0m\u001b[1;33m\u001b[0m\u001b[0m\n",
      "\u001b[1;32m~\\anaconda3\\lib\\site-packages\\pandas\\io\\common.py\u001b[0m in \u001b[0;36mget_handle\u001b[1;34m(path_or_buf, mode, encoding, compression, memory_map, is_text, errors, storage_options)\u001b[0m\n\u001b[0;32m    640\u001b[0m                 \u001b[0merrors\u001b[0m \u001b[1;33m=\u001b[0m \u001b[1;34m\"replace\"\u001b[0m\u001b[1;33m\u001b[0m\u001b[1;33m\u001b[0m\u001b[0m\n\u001b[0;32m    641\u001b[0m             \u001b[1;31m# Encoding\u001b[0m\u001b[1;33m\u001b[0m\u001b[1;33m\u001b[0m\u001b[1;33m\u001b[0m\u001b[0m\n\u001b[1;32m--> 642\u001b[1;33m             handle = open(\n\u001b[0m\u001b[0;32m    643\u001b[0m                 \u001b[0mhandle\u001b[0m\u001b[1;33m,\u001b[0m\u001b[1;33m\u001b[0m\u001b[1;33m\u001b[0m\u001b[0m\n\u001b[0;32m    644\u001b[0m                 \u001b[0mioargs\u001b[0m\u001b[1;33m.\u001b[0m\u001b[0mmode\u001b[0m\u001b[1;33m,\u001b[0m\u001b[1;33m\u001b[0m\u001b[1;33m\u001b[0m\u001b[0m\n",
      "\u001b[1;31mFileNotFoundError\u001b[0m: [Errno 2] No such file or directory: 'in-vehicle-coupon-recommendation.csv'"
     ]
    }
   ],
   "source": [
    "data=pd.read_csv('in-vehicle-coupon-recommendation.csv')"
   ]
  },
  {
   "cell_type": "code",
   "execution_count": null,
   "id": "14b6014c",
   "metadata": {
    "scrolled": false
   },
   "outputs": [],
   "source": [
    "data"
   ]
  },
  {
   "cell_type": "code",
   "execution_count": null,
   "id": "347640f8",
   "metadata": {},
   "outputs": [],
   "source": [
    "data.shape"
   ]
  },
  {
   "cell_type": "code",
   "execution_count": null,
   "id": "c8a0978a",
   "metadata": {},
   "outputs": [],
   "source": [
    "data.info()"
   ]
  },
  {
   "cell_type": "code",
   "execution_count": null,
   "id": "366638fb",
   "metadata": {},
   "outputs": [],
   "source": [
    "data.isnull().sum().sort_values(ascending=False) * 100 /len(data)"
   ]
  },
  {
   "cell_type": "markdown",
   "id": "181071b8",
   "metadata": {},
   "source": [
    "# AS THE CAR FEATURE IS 99.148534% EMPTY I AM DROPPING THIS FEATURE"
   ]
  },
  {
   "cell_type": "code",
   "execution_count": null,
   "id": "f3f0027f",
   "metadata": {},
   "outputs": [],
   "source": [
    "data.drop(columns=['car'],axis=1,inplace=True)"
   ]
  },
  {
   "cell_type": "code",
   "execution_count": null,
   "id": "bc461dca",
   "metadata": {},
   "outputs": [],
   "source": [
    "data[['CoffeeHouse','Restaurant20To50','CarryAway','RestaurantLessThan20','Bar']].isnull().sum().sort_values(ascending=False) * 100 /len(data)"
   ]
  },
  {
   "cell_type": "markdown",
   "id": "887984da",
   "metadata": {},
   "source": [
    "# AS THE TOTAL EMPTY ROWS CONSTITUTE ONLY 5% OF THE DATA,WE CAN DROP THOSE ROWS ,AS WE KNOW IT WILL NOT AFFECT THE ANALYSIS."
   ]
  },
  {
   "cell_type": "code",
   "execution_count": null,
   "id": "096d00ed",
   "metadata": {},
   "outputs": [],
   "source": [
    "print(\"Shape of train data Before dropping any Row: \",data.shape)\n",
    "data = data[data['Bar'].notna()]\n",
    "print(\"Shape of train data After dropping Rows with NULL values: \",data.shape)\n",
    "data = data[data['CoffeeHouse'].notna()]\n",
    "print(\"Shape of train data After dropping Rows with NULL values: \",data.shape)\n",
    "data = data[data['CarryAway'].notna()]\n",
    "print(\"Shape of train data After dropping Rows with NULL values: \",data.shape)\n",
    "data = data[data['RestaurantLessThan20'].notna()]\n",
    "print(\"Shape of train data After dropping Rows with NULL values: \",data.shape)\n",
    "data = data[data['Restaurant20To50'].notna()]\n",
    "print(\"Shape of train data After dropping Rows with NULL values: \",data.shape)"
   ]
  },
  {
   "cell_type": "code",
   "execution_count": null,
   "id": "30ea3f57",
   "metadata": {},
   "outputs": [],
   "source": [
    "data = data.reset_index(drop=True)"
   ]
  },
  {
   "cell_type": "code",
   "execution_count": null,
   "id": "3be20da2",
   "metadata": {
    "scrolled": false
   },
   "outputs": [],
   "source": [
    "data.info()"
   ]
  },
  {
   "cell_type": "code",
   "execution_count": null,
   "id": "756d4dd1",
   "metadata": {
    "scrolled": false
   },
   "outputs": [],
   "source": [
    "sns.catplot(x='income',data=data,hue='Y',kind='count',height=15)\n",
    "plt.show()"
   ]
  },
  {
   "cell_type": "markdown",
   "id": "5bf13dc3",
   "metadata": {},
   "source": [
    "# Inference1:The rows with higher income and lowest income  have relatively high acceptance rates when compared to the rows with avg salaries."
   ]
  },
  {
   "cell_type": "code",
   "execution_count": null,
   "id": "cf9e5cd6",
   "metadata": {
    "scrolled": false
   },
   "outputs": [],
   "source": [
    "sns.catplot(x='gender',data=data,hue='Y',kind='count')\n",
    "plt.show()"
   ]
  },
  {
   "cell_type": "markdown",
   "id": "a3e32d70",
   "metadata": {},
   "source": [
    "# Inference2:Gender feature has not much impact on acceptance rate of coupon as we can see in the plot"
   ]
  },
  {
   "cell_type": "code",
   "execution_count": null,
   "id": "4828d8f8",
   "metadata": {},
   "outputs": [],
   "source": [
    "sns.catplot(x='time',data=data,hue='Y',kind='count')\n",
    "plt.show()"
   ]
  },
  {
   "cell_type": "markdown",
   "id": "f0dcc260",
   "metadata": {},
   "source": [
    "# Inference3:At 2pm,10am,6pm the acceptance rates are high compared to rejection rates,where as at 7am and 10pm they are almost equal."
   ]
  },
  {
   "cell_type": "code",
   "execution_count": null,
   "id": "2a45db99",
   "metadata": {},
   "outputs": [],
   "source": [
    "sns.catplot(x='age',data=data,hue='Y',kind='count')\n",
    "plt.show()"
   ]
  },
  {
   "cell_type": "code",
   "execution_count": null,
   "id": "8ae75fcf",
   "metadata": {},
   "outputs": [],
   "source": [
    "sns.catplot(x='direction_same',data=data,hue='Y',kind='count')\n",
    "plt.show()"
   ]
  },
  {
   "cell_type": "markdown",
   "id": "a458281c",
   "metadata": {},
   "source": [
    "# if the direction is same the acceptance rates are high"
   ]
  },
  {
   "cell_type": "code",
   "execution_count": null,
   "id": "373f6ffa",
   "metadata": {
    "scrolled": false
   },
   "outputs": [],
   "source": [
    "sns.catplot(x='destination',data=data,hue='Y',kind='count')\n",
    "plt.show()"
   ]
  },
  {
   "cell_type": "markdown",
   "id": "bd969175",
   "metadata": {},
   "source": [
    "# when the destination is no urgent place the acceptance rates are high"
   ]
  },
  {
   "cell_type": "code",
   "execution_count": null,
   "id": "512aecfa",
   "metadata": {},
   "outputs": [],
   "source": [
    "sns.catplot(x='passanger',data=data,hue='Y',kind='count')\n",
    "plt.show() "
   ]
  },
  {
   "cell_type": "code",
   "execution_count": null,
   "id": "14733f53",
   "metadata": {
    "scrolled": false
   },
   "outputs": [],
   "source": [
    "sns.catplot(x='expiration',data=data,hue='Y',kind='count')\n",
    "plt.show() "
   ]
  },
  {
   "cell_type": "markdown",
   "id": "eccf2af8",
   "metadata": {},
   "source": [
    "# when the expiration of the coupon offered is 1d the acceptance rates are high"
   ]
  },
  {
   "cell_type": "code",
   "execution_count": null,
   "id": "ad319566",
   "metadata": {},
   "outputs": [],
   "source": [
    "def visual(s):\n",
    "    sns.countplot(data[s])"
   ]
  },
  {
   "cell_type": "code",
   "execution_count": null,
   "id": "e00d2c5a",
   "metadata": {},
   "outputs": [],
   "source": [
    "visual('destination')"
   ]
  },
  {
   "cell_type": "code",
   "execution_count": null,
   "id": "570a88dd",
   "metadata": {},
   "outputs": [],
   "source": [
    "visual('passanger')"
   ]
  },
  {
   "cell_type": "code",
   "execution_count": null,
   "id": "ea1539a6",
   "metadata": {
    "scrolled": false
   },
   "outputs": [],
   "source": [
    "visual('weather')"
   ]
  },
  {
   "cell_type": "code",
   "execution_count": null,
   "id": "676efc89",
   "metadata": {},
   "outputs": [],
   "source": [
    "visual('time')"
   ]
  },
  {
   "cell_type": "code",
   "execution_count": null,
   "id": "92aa04f3",
   "metadata": {},
   "outputs": [],
   "source": [
    "visual('coupon')"
   ]
  },
  {
   "cell_type": "code",
   "execution_count": null,
   "id": "8f1e4af2",
   "metadata": {},
   "outputs": [],
   "source": [
    "visual('expiration')"
   ]
  },
  {
   "cell_type": "code",
   "execution_count": null,
   "id": "e190a840",
   "metadata": {},
   "outputs": [],
   "source": [
    "visual('maritalStatus')"
   ]
  },
  {
   "cell_type": "code",
   "execution_count": null,
   "id": "2b457961",
   "metadata": {},
   "outputs": [],
   "source": [
    "visual('education')"
   ]
  },
  {
   "cell_type": "code",
   "execution_count": null,
   "id": "f4e2035a",
   "metadata": {},
   "outputs": [],
   "source": [
    "visual('Bar')"
   ]
  },
  {
   "cell_type": "code",
   "execution_count": null,
   "id": "915e95e9",
   "metadata": {},
   "outputs": [],
   "source": [
    "visual('CoffeeHouse')"
   ]
  },
  {
   "cell_type": "code",
   "execution_count": null,
   "id": "abea828e",
   "metadata": {},
   "outputs": [],
   "source": [
    "visual('CarryAway')"
   ]
  },
  {
   "cell_type": "code",
   "execution_count": null,
   "id": "1feed586",
   "metadata": {},
   "outputs": [],
   "source": [
    "visual('income')"
   ]
  },
  {
   "cell_type": "code",
   "execution_count": null,
   "id": "e0f826bb",
   "metadata": {},
   "outputs": [],
   "source": [
    "visual('Restaurant20To50')"
   ]
  },
  {
   "cell_type": "code",
   "execution_count": null,
   "id": "f6716b8e",
   "metadata": {},
   "outputs": [],
   "source": [
    "visual('RestaurantLessThan20')"
   ]
  },
  {
   "cell_type": "markdown",
   "id": "eaa1507b",
   "metadata": {},
   "source": [
    "# with respect our data all the features are categorical in nature so we are using lableEncoder to deal with the data which increases the no of features to great extent which not good for ml algorithms"
   ]
  },
  {
   "cell_type": "code",
   "execution_count": null,
   "id": "e62803c8",
   "metadata": {},
   "outputs": [],
   "source": [
    "df=data"
   ]
  },
  {
   "cell_type": "code",
   "execution_count": null,
   "id": "0d8b2494",
   "metadata": {},
   "outputs": [],
   "source": [
    "number = LabelEncoder()\n",
    "df['destination'] = number.fit_transform(df['destination'])\n",
    "df['passanger'] = number.fit_transform(df['passanger'])\n",
    "df['weather'] = number.fit_transform(df['weather'])\n",
    "df['time'] = number.fit_transform(df['time'])\n",
    "df['coupon'] = number.fit_transform(df['coupon'])\n",
    "df['expiration'] = number.fit_transform(df['expiration'])\n",
    "df['gender'] = number.fit_transform(df['gender'])\n",
    "df['maritalStatus'] = number.fit_transform(df['maritalStatus'])\n",
    "df['education'] = number.fit_transform(df['education'])\n",
    "df['occupation'] = number.fit_transform(df['occupation'])\n",
    "df['Bar'] = number.fit_transform(df['Bar'])\n",
    "df['CoffeeHouse'] = number.fit_transform(df['CoffeeHouse'])\n",
    "df['CarryAway'] = number.fit_transform(df['CarryAway'])\n",
    "df['income'] = number.fit_transform(df['income'])\n",
    "df['age']=number.fit_transform(df['age'])\n",
    "df['Restaurant20To50'] = number.fit_transform(df['Restaurant20To50'])\n",
    "df['RestaurantLessThan20'] = number.fit_transform(df['RestaurantLessThan20'])"
   ]
  },
  {
   "cell_type": "code",
   "execution_count": null,
   "id": "d30a40a9",
   "metadata": {},
   "outputs": [],
   "source": [
    "df.info()"
   ]
  },
  {
   "cell_type": "code",
   "execution_count": null,
   "id": "5c4e3a35",
   "metadata": {},
   "outputs": [],
   "source": [
    "X = df.drop(['Y'],axis=1)\n",
    "y = df['Y']\n",
    "X.head()"
   ]
  },
  {
   "cell_type": "code",
   "execution_count": null,
   "id": "afb8b20c",
   "metadata": {},
   "outputs": [],
   "source": [
    "X_train, X_test, y_train, y_test = train_test_split(X, y, test_size = 0.2,random_state=0)"
   ]
  },
  {
   "cell_type": "code",
   "execution_count": null,
   "id": "9442eb54",
   "metadata": {},
   "outputs": [],
   "source": [
    "data['age'].unique()"
   ]
  },
  {
   "cell_type": "code",
   "execution_count": null,
   "id": "f522eddd",
   "metadata": {},
   "outputs": [],
   "source": [
    "from sklearn.preprocessing import StandardScaler\n",
    "scaler = StandardScaler()\n",
    "X_train = pd.DataFrame(scaler.fit_transform(X_train), columns = X.columns)\n",
    "X_test = pd.DataFrame(scaler.transform(X_test), columns = X.columns)"
   ]
  },
  {
   "cell_type": "code",
   "execution_count": null,
   "id": "2adf2ee0",
   "metadata": {},
   "outputs": [],
   "source": [
    "X_train.head()"
   ]
  },
  {
   "cell_type": "code",
   "execution_count": null,
   "id": "82b9998c",
   "metadata": {},
   "outputs": [],
   "source": [
    "x= sm.add_constant(X)\n",
    "results = sm.OLS(y,x).fit()\n",
    "results.summary()"
   ]
  },
  {
   "cell_type": "markdown",
   "id": "b408d132",
   "metadata": {},
   "source": [
    "#  inference : from the above summary the r -square and adj r-squre are very low so we can't apply linear regression model"
   ]
  },
  {
   "cell_type": "code",
   "execution_count": null,
   "id": "5a82ee8d",
   "metadata": {},
   "outputs": [],
   "source": []
  },
  {
   "cell_type": "code",
   "execution_count": null,
   "id": "802f2f00",
   "metadata": {},
   "outputs": [],
   "source": [
    "# Logistic Regression\n",
    "LR = LogisticRegression()\n",
    "LR.fit(X_train, y_train)\n",
    "y_pred = LR.predict(X_test)\n",
    "score_LR = LR.score(X_test,y_test)\n",
    "print('The accuracy of the Logistic Regression model is', score_LR)\n"
   ]
  },
  {
   "cell_type": "code",
   "execution_count": null,
   "id": "58343bba",
   "metadata": {},
   "outputs": [],
   "source": [
    "# Support Vector Classifier (SVM/SVC)\n",
    "from sklearn.svm import SVC\n",
    "svc = SVC(gamma=0.22)\n",
    "svc.fit(X_train, y_train)\n",
    "y_pred = svc.predict(X_test)\n",
    "score_svc = svc.score(X_test,y_test)\n",
    "print('The accuracy of SVC model is', score_svc)"
   ]
  },
  {
   "cell_type": "code",
   "execution_count": null,
   "id": "12f3f630",
   "metadata": {},
   "outputs": [],
   "source": [
    "# Decision Tree\n",
    "DT = DecisionTreeClassifier()\n",
    "DT.fit(X_train,y_train)\n",
    "y_pred = DT.predict(X_test)\n",
    "score_DT = DT.score(X_test,y_test)\n",
    "print(\"The accuracy of the Decision tree model is \",score_DT)"
   ]
  },
  {
   "cell_type": "code",
   "execution_count": null,
   "id": "75b6754c",
   "metadata": {},
   "outputs": [],
   "source": [
    "knn = KNeighborsClassifier()\n",
    "knn.fit(X_train, y_train)\n",
    "y_pred = knn.predict(X_test)\n",
    "score_knn = knn.score(X_test,y_test)\n",
    "print('The accuracy of the KNN Model is',score_knn)"
   ]
  },
  {
   "cell_type": "code",
   "execution_count": null,
   "id": "9ee1b605",
   "metadata": {},
   "outputs": [],
   "source": [
    "from sklearn.naive_bayes import GaussianNB\n",
    "model = GaussianNB()\n",
    "model.fit(X_train,y_train)\n",
    "accuracy=model.score(X_test,y_test)\n",
    "print('The accuracy of the Naive Bayes Model is',accuracy)"
   ]
  }
 ],
 "metadata": {
  "kernelspec": {
   "display_name": "Python 3",
   "language": "python",
   "name": "python3"
  },
  "language_info": {
   "codemirror_mode": {
    "name": "ipython",
    "version": 3
   },
   "file_extension": ".py",
   "mimetype": "text/x-python",
   "name": "python",
   "nbconvert_exporter": "python",
   "pygments_lexer": "ipython3",
   "version": "3.8.8"
  }
 },
 "nbformat": 4,
 "nbformat_minor": 5
}
