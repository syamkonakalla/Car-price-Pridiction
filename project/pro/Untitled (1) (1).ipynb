{
 "cells": [
  {
   "cell_type": "code",
   "execution_count": 1,
   "id": "5b3dcfb9",
   "metadata": {},
   "outputs": [],
   "source": [
    "import numpy as np\n",
    "import pandas as pd\n",
    "import matplotlib.pyplot as plt\n",
    "import seaborn as sns\n",
    "import random\n",
    "sns.set()"
   ]
  },
  {
   "cell_type": "code",
   "execution_count": 2,
   "id": "b03f14a5",
   "metadata": {},
   "outputs": [],
   "source": [
    "data=pd.read_excel('fds1_proj.xlsx')"
   ]
  },
  {
   "cell_type": "code",
   "execution_count": 3,
   "id": "c8195714",
   "metadata": {},
   "outputs": [
    {
     "name": "stdout",
     "output_type": "stream",
     "text": [
      "<class 'pandas.core.frame.DataFrame'>\n",
      "RangeIndex: 12079 entries, 0 to 12078\n",
      "Data columns (total 14 columns):\n",
      " #   Column                Non-Null Count  Dtype \n",
      "---  ------                --------------  ----- \n",
      " 0   Unnamed: 0            12079 non-null  int64 \n",
      " 1   passanger             12079 non-null  object\n",
      " 2   weather               12079 non-null  object\n",
      " 3   time                  12079 non-null  int64 \n",
      " 4   gender                12079 non-null  object\n",
      " 5   age                   12079 non-null  int64 \n",
      " 6   maritalStatus         12079 non-null  object\n",
      " 7   education             12079 non-null  object\n",
      " 8   occupation            12079 non-null  object\n",
      " 9   income                12079 non-null  object\n",
      " 10  Bar                   12079 non-null  int64 \n",
      " 11  CoffeeHouse           12079 non-null  int64 \n",
      " 12  CarryAway             12079 non-null  int64 \n",
      " 13  RestaurantLessThan20  12079 non-null  int64 \n",
      "dtypes: int64(7), object(7)\n",
      "memory usage: 1.3+ MB\n"
     ]
    }
   ],
   "source": [
    "data.info()"
   ]
  },
  {
   "cell_type": "code",
   "execution_count": null,
   "id": "f87bca64",
   "metadata": {},
   "outputs": [],
   "source": [
    "data.head()"
   ]
  },
  {
   "cell_type": "code",
   "execution_count": null,
   "id": "110f37d4",
   "metadata": {},
   "outputs": [],
   "source": [
    "data.info()"
   ]
  },
  {
   "cell_type": "code",
   "execution_count": null,
   "id": "1666f1b2",
   "metadata": {},
   "outputs": [],
   "source": [
    "data['Bar'].unique()"
   ]
  },
  {
   "cell_type": "code",
   "execution_count": null,
   "id": "f04946f7",
   "metadata": {},
   "outputs": [],
   "source": [
    "for i in range(0,len(data['Bar'])):\n",
    "    if data['Bar'][i]==np.NaN:\n",
    "        data['Bar'][i]=0 \n",
    "    else: \n",
    "        s=data['Bar'][i]\n",
    "        if s==\"less1\":\n",
    "            data['Bar'][i]=1\n",
    "        elif s==\"1~3\":\n",
    "            r=random.choice([2,3])\n",
    "            data['Bar'][i]=r\n",
    "        elif s==\"never\":\n",
    "            data['Bar'][i]=0\n",
    "        elif s==\"4~8\":\n",
    "            r=random.choice([4,5,6,7])\n",
    "            data['Bar'][i]=r\n",
    "        elif s==\"gt8\":\n",
    "            r=random.randint(8,20)\n",
    "            data['Bar'][i]=r "
   ]
  },
  {
   "cell_type": "code",
   "execution_count": null,
   "id": "e0705675",
   "metadata": {},
   "outputs": [],
   "source": [
    "data['Bar'].unique()"
   ]
  },
  {
   "cell_type": "code",
   "execution_count": null,
   "id": "6a78f89a",
   "metadata": {},
   "outputs": [],
   "source": [
    "data['Bar']=data['Bar'].astype(int)"
   ]
  },
  {
   "cell_type": "code",
   "execution_count": null,
   "id": "f8618617",
   "metadata": {},
   "outputs": [],
   "source": [
    "data['Bar'].value_counts()"
   ]
  },
  {
   "cell_type": "code",
   "execution_count": null,
   "id": "03687ea3",
   "metadata": {},
   "outputs": [],
   "source": [
    "data['CarryAway'].unique()"
   ]
  },
  {
   "cell_type": "code",
   "execution_count": null,
   "id": "7fc80ba8",
   "metadata": {},
   "outputs": [],
   "source": [
    "for i in range(0,len(data['CarryAway'])):\n",
    "    if data['CarryAway'][i]==np.NaN:\n",
    "        data['CarryAway'][i]=0 \n",
    "    else: \n",
    "        s=data['CarryAway'][i]\n",
    "        if s==\"less1\":\n",
    "            data['CarryAway'][i]=1\n",
    "        elif s==\"1~3\":\n",
    "            r=random.choice([2,3])\n",
    "            data['CarryAway'][i]=3\n",
    "        elif s==\"never\":\n",
    "            data['CarryAway'][i]=0\n",
    "        elif s==\"4~8\":\n",
    "            r=random.choice([4,5,6,7])\n",
    "            data['CarryAway'][i]=r\n",
    "        elif s==\"gt8\":\n",
    "            r=random.randint(8,20)\n",
    "            data['CarryAway'][i]=r "
   ]
  },
  {
   "cell_type": "code",
   "execution_count": null,
   "id": "e97c239b",
   "metadata": {},
   "outputs": [],
   "source": [
    "data['CarryAway'].value_counts()"
   ]
  },
  {
   "cell_type": "code",
   "execution_count": null,
   "id": "c6bc4580",
   "metadata": {},
   "outputs": [],
   "source": [
    "data['RestaurantLessThan20'].unique()"
   ]
  },
  {
   "cell_type": "code",
   "execution_count": null,
   "id": "e31e2ed3",
   "metadata": {},
   "outputs": [],
   "source": [
    "data['CoffeeHouse'].unique()"
   ]
  },
  {
   "cell_type": "code",
   "execution_count": null,
   "id": "54f99e9f",
   "metadata": {},
   "outputs": [],
   "source": [
    "for i in range(0,len(data['CoffeeHouse'])):\n",
    "    if data['CoffeeHouse'][i]==np.NaN:\n",
    "        data['CoffeeHouse'][i]=0 \n",
    "    else: \n",
    "        s=data['CoffeeHouse'][i]\n",
    "        if s==\"less1\":\n",
    "            data['CoffeeHouse'][i]=1\n",
    "        elif s==\"1~3\":\n",
    "            r=random.choice([2,3])\n",
    "            data['CoffeeHouse'][i]=r\n",
    "        elif s==\"never\":\n",
    "            data['CoffeeHouse'][i]=0\n",
    "        elif s==\"4~8\":\n",
    "            r=random.choice([4,5,6,7])\n",
    "            data['CoffeeHouse'][i]=r\n",
    "        elif s==\"gt8\":\n",
    "            r=random.randint(8,20)\n",
    "            data['CoffeeHouse'][i]=r "
   ]
  },
  {
   "cell_type": "code",
   "execution_count": null,
   "id": "470f3e89",
   "metadata": {},
   "outputs": [],
   "source": [
    "data['CoffeeHouse'].value_counts()"
   ]
  },
  {
   "cell_type": "code",
   "execution_count": null,
   "id": "310b6908",
   "metadata": {},
   "outputs": [],
   "source": [
    "for i in range(0,len(data['RestaurantLessThan20'])):\n",
    "    if data['RestaurantLessThan20'][i]==np.NaN:\n",
    "        data['RestaurantLessThan20'][i]=0 \n",
    "    else: \n",
    "        s=data['RestaurantLessThan20'][i]\n",
    "        if s==\"less1\":\n",
    "            data['RestaurantLessThan20'][i]=1\n",
    "        elif s==\"1~3\":\n",
    "            r=random.choice([2,3])\n",
    "            data['RestaurantLessThan20'][i]=r\n",
    "        elif s==\"never\":\n",
    "            data['RestaurantLessThan20'][i]=0\n",
    "        elif s==\"4~8\":\n",
    "            r=random.choice([4,5,6,7])\n",
    "            data['RestaurantLessThan20'][i]=r\n",
    "        elif s==\"gt8\":\n",
    "            r=random.randint(8,20)\n",
    "            data['RestaurantLessThan20'][i]=r "
   ]
  },
  {
   "cell_type": "code",
   "execution_count": null,
   "id": "43bfceba",
   "metadata": {},
   "outputs": [],
   "source": [
    "data['RestaurantLessThan20'].value_counts()"
   ]
  },
  {
   "cell_type": "code",
   "execution_count": null,
   "id": "c8c01826",
   "metadata": {},
   "outputs": [],
   "source": [
    "data['passanger'].unique()"
   ]
  },
  {
   "cell_type": "code",
   "execution_count": null,
   "id": "28826265",
   "metadata": {},
   "outputs": [],
   "source": [
    "data.drop('expiration',inplace=True,axis=1)"
   ]
  },
  {
   "cell_type": "code",
   "execution_count": null,
   "id": "083d0553",
   "metadata": {},
   "outputs": [],
   "source": [
    "data.head()"
   ]
  },
  {
   "cell_type": "code",
   "execution_count": null,
   "id": "4995186b",
   "metadata": {},
   "outputs": [],
   "source": [
    "data.shape"
   ]
  },
  {
   "cell_type": "code",
   "execution_count": null,
   "id": "144b10d1",
   "metadata": {},
   "outputs": [],
   "source": [
    "data.drop('toCoupon_GEQ5min',inplace=True,axis=1)\n",
    "data.drop('toCoupon_GEQ15min',inplace=True,axis=1)\n",
    "data.drop('toCoupon_GEQ25min',inplace=True,axis=1)\n"
   ]
  },
  {
   "cell_type": "code",
   "execution_count": null,
   "id": "b2922ae7",
   "metadata": {},
   "outputs": [],
   "source": [
    "data.shape"
   ]
  },
  {
   "cell_type": "code",
   "execution_count": null,
   "id": "971a0478",
   "metadata": {},
   "outputs": [],
   "source": [
    "data.drop('Restaurant20To50',inplace=True,axis=1)"
   ]
  },
  {
   "cell_type": "code",
   "execution_count": null,
   "id": "e1b4e4be",
   "metadata": {},
   "outputs": [],
   "source": [
    "data.head()"
   ]
  },
  {
   "cell_type": "code",
   "execution_count": null,
   "id": "1e29511e",
   "metadata": {},
   "outputs": [],
   "source": [
    "data.shape"
   ]
  },
  {
   "cell_type": "code",
   "execution_count": null,
   "id": "f1854005",
   "metadata": {},
   "outputs": [],
   "source": [
    "data.drop('has_children',inplace=True,axis=1)"
   ]
  },
  {
   "cell_type": "code",
   "execution_count": null,
   "id": "3763dd9c",
   "metadata": {},
   "outputs": [],
   "source": [
    "data.shape"
   ]
  },
  {
   "cell_type": "code",
   "execution_count": null,
   "id": "de5897f0",
   "metadata": {},
   "outputs": [],
   "source": [
    "data.head()"
   ]
  },
  {
   "cell_type": "code",
   "execution_count": null,
   "id": "7a024e9e",
   "metadata": {},
   "outputs": [],
   "source": [
    "data['age'].unique()"
   ]
  },
  {
   "cell_type": "code",
   "execution_count": null,
   "id": "021481b9",
   "metadata": {},
   "outputs": [],
   "source": [
    "df=data"
   ]
  },
  {
   "cell_type": "code",
   "execution_count": null,
   "id": "3ac04ef5",
   "metadata": {},
   "outputs": [],
   "source": [
    "for i in range(0,len(df['age'])):\n",
    "    if df['age'][i]==\"50plus\":\n",
    "        r=random.randint(50,60)\n",
    "        df['age'][i]=r\n",
    "    elif df['age'][i]==\"below21\":\n",
    "        r= random.randint(16,20)\n",
    "        df['age'][i]=r"
   ]
  },
  {
   "cell_type": "code",
   "execution_count": null,
   "id": "24c1e53b",
   "metadata": {},
   "outputs": [],
   "source": [
    "data['age'].unique()"
   ]
  },
  {
   "cell_type": "code",
   "execution_count": null,
   "id": "4d3fc89c",
   "metadata": {},
   "outputs": [],
   "source": [
    "data['age']=data['age'].astype(int)"
   ]
  },
  {
   "cell_type": "code",
   "execution_count": null,
   "id": "26cc2400",
   "metadata": {},
   "outputs": [],
   "source": [
    "data['age'].unique()"
   ]
  },
  {
   "cell_type": "code",
   "execution_count": null,
   "id": "6c8ecc40",
   "metadata": {},
   "outputs": [],
   "source": [
    "data['age'].value_counts()"
   ]
  },
  {
   "cell_type": "code",
   "execution_count": null,
   "id": "37ad698e",
   "metadata": {},
   "outputs": [],
   "source": [
    "data.head()"
   ]
  },
  {
   "cell_type": "code",
   "execution_count": null,
   "id": "b3998446",
   "metadata": {},
   "outputs": [],
   "source": [
    "data['maritalStatus'].unique()"
   ]
  },
  {
   "cell_type": "code",
   "execution_count": null,
   "id": "27609a88",
   "metadata": {},
   "outputs": [],
   "source": [
    "data.to_excel(\"fds_proj.xlsx\")"
   ]
  },
  {
   "cell_type": "code",
   "execution_count": null,
   "id": "0adeea15",
   "metadata": {},
   "outputs": [],
   "source": [
    "data.info()"
   ]
  },
  {
   "cell_type": "code",
   "execution_count": null,
   "id": "daaab443",
   "metadata": {},
   "outputs": [],
   "source": [
    "data['CoffeeHouse']=data['CoffeeHouse'].astype(int)\n",
    "data['CarryAway']=data['CarryAway'].astype(int)\n",
    "data['RestaurantLessThan20']=data['RestaurantLessThan20'].astype(int)\n"
   ]
  },
  {
   "cell_type": "code",
   "execution_count": null,
   "id": "4f2438fc",
   "metadata": {},
   "outputs": [],
   "source": [
    "data.info()"
   ]
  },
  {
   "cell_type": "code",
   "execution_count": null,
   "id": "8966a2a1",
   "metadata": {},
   "outputs": [],
   "source": [
    "data['time'].unique()"
   ]
  },
  {
   "cell_type": "code",
   "execution_count": null,
   "id": "0295c242",
   "metadata": {},
   "outputs": [],
   "source": [
    "for i in range(0,len(data['time'])):\n",
    "    if data['time'][i]=='2PM':\n",
    "        data['time'][i]=14\n",
    "    if data['time'][i]=='10AM':\n",
    "        data['time'][i]=10\n",
    "    if data['time'][i]=='6PM':\n",
    "        data['time'][i]=18\n",
    "    if data['time'][i]=='7AM':\n",
    "        data['time'][i]=7\n",
    "    if data['time'][i]=='10PM':\n",
    "        data['time'][i]=20\n"
   ]
  },
  {
   "cell_type": "code",
   "execution_count": null,
   "id": "e26a6589",
   "metadata": {},
   "outputs": [],
   "source": [
    "data['time'].unique()"
   ]
  },
  {
   "cell_type": "code",
   "execution_count": null,
   "id": "4c527f85",
   "metadata": {
    "scrolled": true
   },
   "outputs": [],
   "source": [
    "data.rename(columns={'RestaurantLessThan20':'restaurant'})"
   ]
  },
  {
   "cell_type": "code",
   "execution_count": null,
   "id": "bde7a4f1",
   "metadata": {},
   "outputs": [],
   "source": []
  }
 ],
 "metadata": {
  "kernelspec": {
   "display_name": "Python 3",
   "language": "python",
   "name": "python3"
  },
  "language_info": {
   "codemirror_mode": {
    "name": "ipython",
    "version": 3
   },
   "file_extension": ".py",
   "mimetype": "text/x-python",
   "name": "python",
   "nbconvert_exporter": "python",
   "pygments_lexer": "ipython3",
   "version": "3.8.8"
  }
 },
 "nbformat": 4,
 "nbformat_minor": 5
}
